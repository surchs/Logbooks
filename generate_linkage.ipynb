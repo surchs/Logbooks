{
 "metadata": {
  "name": "",
  "signature": "sha256:3022f51190e81c139550e8cd13824daa89e697eef8d006b6f29a36122feb35c4"
 },
 "nbformat": 3,
 "nbformat_minor": 0,
 "worksheets": [
  {
   "cells": [
    {
     "cell_type": "heading",
     "level": 1,
     "metadata": {},
     "source": [
      "Pull subjects and save linkage"
     ]
    },
    {
     "cell_type": "code",
     "collapsed": false,
     "input": [
      "# Imports\n",
      "import re\n",
      "import os\n",
      "import gzip\n",
      "import numpy as np\n",
      "import pandas as pd\n",
      "import cPickle as cp\n",
      "import brainbox as bb\n",
      "from matplotlib import pyplot as plt\n",
      "import scipy.cluster.hierarchy as clh"
     ],
     "language": "python",
     "metadata": {},
     "outputs": [],
     "prompt_number": 1
    },
    {
     "cell_type": "code",
     "collapsed": false,
     "input": [
      "# Paths\n",
      "debug_path = '/data1/abide/Out/Remote/some_failed/out'\n",
      "out_path = '/data1/abide/Test'\n",
      "if not os.path.isdir(out_path):\n",
      "    try:\n",
      "        os.makedirs(out_path)\n",
      "    except OSError as exc: # Python >2.5\n",
      "        if exc.errno == errno.EEXIST and os.path.isdir(out_path):\n",
      "            pass\n",
      "        else: raise"
     ],
     "language": "python",
     "metadata": {},
     "outputs": [],
     "prompt_number": 2
    },
    {
     "cell_type": "code",
     "collapsed": false,
     "input": [
      "# Find the data\n",
      "metric = 'stability_maps'\n",
      "file_dict = bb.fileOps.grab_files(debug_path, '.nii.gz', metric)\n",
      "# Get subject IDs of the files I just read in\n",
      "data_subs = np.array([int64(re.search(r'(?<=\\d{2})\\d{5}', sub_id).group()) for sub_id in file_dict['sub_name']])"
     ],
     "language": "python",
     "metadata": {},
     "outputs": [
      {
       "output_type": "stream",
       "stream": "stdout",
       "text": [
        "I will be pulling files from /data1/abide/Out/Remote/some_failed/out/stability_maps\n"
       ]
      }
     ],
     "prompt_number": 3
    },
    {
     "cell_type": "code",
     "collapsed": false,
     "input": [
      "# Loop the data\n",
      "results = list()\n",
      "for network in np.arange(10):\n",
      "    print('Loading network {}'.format(network))\n",
      "    data_dict = bb.fileOps.read_files(file_dict, network=network, silence=True)\n",
      "    # We only loaded one network so it is always the first one\n",
      "    results.append(bb.dataOps.calc_link(data_dict, metric, network=0))"
     ],
     "language": "python",
     "metadata": {},
     "outputs": [
      {
       "output_type": "stream",
       "stream": "stdout",
       "text": [
        "Loading network 0\n",
        "\n",
        "We are done"
       ]
      },
      {
       "output_type": "stream",
       "stream": "stdout",
       "text": [
        "\n",
        "Loading network 1"
       ]
      }
     ]
    },
    {
     "cell_type": "code",
     "collapsed": false,
     "input": [
      "out = (data_subs, results)"
     ],
     "language": "python",
     "metadata": {},
     "outputs": [],
     "prompt_number": 14
    },
    {
     "cell_type": "code",
     "collapsed": false,
     "input": [
      "outFile = os.path.join(out_path, 'linkage.gz')\n",
      "outF = gzip.open(outFile, 'wb')\n",
      "cp.dump(out, outF, protocol=2)\n",
      "outF.close()"
     ],
     "language": "python",
     "metadata": {},
     "outputs": [],
     "prompt_number": 15
    },
    {
     "cell_type": "code",
     "collapsed": false,
     "input": [
      "10 +1"
     ],
     "language": "python",
     "metadata": {},
     "outputs": [
      {
       "metadata": {},
       "output_type": "pyout",
       "prompt_number": 1,
       "text": [
        "11"
       ]
      }
     ],
     "prompt_number": 1
    },
    {
     "cell_type": "code",
     "collapsed": false,
     "input": [],
     "language": "python",
     "metadata": {},
     "outputs": []
    }
   ],
   "metadata": {}
  }
 ]
}