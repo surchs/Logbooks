{
 "metadata": {
  "name": "",
  "signature": "sha256:d283ba4a3c7c664d5593bbaa45bf5aa81aaa2cc60e0047460fa60111c9b49f78"
 },
 "nbformat": 3,
 "nbformat_minor": 0,
 "worksheets": [
  {
   "cells": [
    {
     "cell_type": "markdown",
     "metadata": {},
     "source": [
      "__Outline for this project__\n",
      "* Find the timeseries data\n",
      "* Reduce their dimensionality until it is manageable\n",
      "* "
     ]
    },
    {
     "cell_type": "code",
     "collapsed": false,
     "input": [
      "import re\n",
      "import copy\n",
      "import brainbox as bb\n"
     ],
     "language": "python",
     "metadata": {},
     "outputs": [],
     "prompt_number": 11
    },
    {
     "cell_type": "code",
     "collapsed": false,
     "input": [],
     "language": "python",
     "metadata": {},
     "outputs": []
    },
    {
     "cell_type": "code",
     "collapsed": false,
     "input": [
      "# Paths\n",
      "in_path = '/data1/abide/Full/abide_release_sym_gsc0_lp01'"
     ],
     "language": "python",
     "metadata": {},
     "outputs": [],
     "prompt_number": 2
    },
    {
     "cell_type": "code",
     "collapsed": false,
     "input": [
      "file_dict = bb.fileOps.grab_files(in_path, '.nii.gz')"
     ],
     "language": "python",
     "metadata": {},
     "outputs": [],
     "prompt_number": 3
    },
    {
     "cell_type": "code",
     "collapsed": false,
     "input": [
      "# Duplicate dropper\n",
      "def drop_duplicates(in_dict):\n",
      "    \"\"\"\n",
      "    Because python uses pointers and does not copy the variables\n",
      "    I can operate directly on the dictionary and change it in place\n",
      "    \"\"\"\n",
      "    cp_dict = copy.deepcopy(in_dict)\n",
      "    subs = cp_dict['sub_name']\n",
      "    dirs = cp_dict['dir']\n",
      "    path = cp_dict['path']\n",
      "    drop = list()\n",
      "    present = list()\n",
      "    sub_names = np.array([int64(re.search(r'(?<=\\d{2})\\d{5}', sub_id).group()) for sub_id in cp_dict['sub_name']])\n",
      "    for idx, sub in enumerate(sub_names):\n",
      "        if not sub in present:\n",
      "            present.append(sub)\n",
      "        else:\n",
      "            drop.append(idx)\n",
      "    print('Found {} items to drop'.format(len(drop)))\n",
      "    # Pop them in reverse order\n",
      "    for idx in drop[::-1]:\n",
      "        subs.pop(idx)\n",
      "        dirs.pop(idx)\n",
      "        path.pop(idx)\n",
      "    \n",
      "    return cp_dict"
     ],
     "language": "python",
     "metadata": {},
     "outputs": [],
     "prompt_number": 7
    },
    {
     "cell_type": "code",
     "collapsed": false,
     "input": [
      "in_dict = drop_duplicates(file_dict)"
     ],
     "language": "python",
     "metadata": {},
     "outputs": [
      {
       "output_type": "stream",
       "stream": "stdout",
       "text": [
        "Found 49 items to drop\n"
       ]
      }
     ],
     "prompt_number": 12
    },
    {
     "cell_type": "code",
     "collapsed": false,
     "input": [
      "data_dict = bb.fileOps.read_files(in_dict, silence=True)"
     ],
     "language": "python",
     "metadata": {},
     "outputs": [
      {
       "ename": "IndexError",
       "evalue": "index 0 is out of bounds for axis 0 with size 0",
       "output_type": "pyerr",
       "traceback": [
        "\u001b[1;31m---------------------------------------------------------------------------\u001b[0m\n\u001b[1;31mIndexError\u001b[0m                                Traceback (most recent call last)",
        "\u001b[1;32m<ipython-input-14-7ab3338bf80a>\u001b[0m in \u001b[0;36m<module>\u001b[1;34m()\u001b[0m\n\u001b[1;32m----> 1\u001b[1;33m \u001b[0mdata_dict\u001b[0m \u001b[1;33m=\u001b[0m \u001b[0mbb\u001b[0m\u001b[1;33m.\u001b[0m\u001b[0mfileOps\u001b[0m\u001b[1;33m.\u001b[0m\u001b[0mread_files\u001b[0m\u001b[1;33m(\u001b[0m\u001b[0min_dict\u001b[0m\u001b[1;33m,\u001b[0m \u001b[0msilence\u001b[0m\u001b[1;33m=\u001b[0m\u001b[0mTrue\u001b[0m\u001b[1;33m)\u001b[0m\u001b[1;33m\u001b[0m\u001b[0m\n\u001b[0m",
        "\u001b[1;32m/home/surchs/Code/brainbox/fileOps/base.pyc\u001b[0m in \u001b[0;36mread_files\u001b[1;34m(file_dict, network, silence)\u001b[0m\n\u001b[0;32m    123\u001b[0m             \u001b[1;31m# Preallocate array\u001b[0m\u001b[1;33m\u001b[0m\u001b[1;33m\u001b[0m\u001b[0m\n\u001b[0;32m    124\u001b[0m             \u001b[0marray_dict\u001b[0m\u001b[1;33m[\u001b[0m\u001b[0msub_dir\u001b[0m\u001b[1;33m]\u001b[0m \u001b[1;33m=\u001b[0m \u001b[1;33m[\u001b[0m\u001b[0mnp\u001b[0m\u001b[1;33m.\u001b[0m\u001b[0mempty\u001b[0m\u001b[1;33m(\u001b[0m\u001b[0marr_size\u001b[0m\u001b[1;33m)\u001b[0m\u001b[1;33m,\u001b[0m \u001b[1;36m0\u001b[0m\u001b[1;33m]\u001b[0m\u001b[1;33m\u001b[0m\u001b[0m\n\u001b[1;32m--> 125\u001b[1;33m         \u001b[0marray_dict\u001b[0m\u001b[1;33m[\u001b[0m\u001b[0msub_dir\u001b[0m\u001b[1;33m]\u001b[0m\u001b[1;33m[\u001b[0m\u001b[1;36m0\u001b[0m\u001b[1;33m]\u001b[0m\u001b[1;33m[\u001b[0m\u001b[0marray_dict\u001b[0m\u001b[1;33m[\u001b[0m\u001b[0msub_dir\u001b[0m\u001b[1;33m]\u001b[0m\u001b[1;33m[\u001b[0m\u001b[1;36m1\u001b[0m\u001b[1;33m]\u001b[0m\u001b[1;33m,\u001b[0m \u001b[1;33m.\u001b[0m\u001b[1;33m.\u001b[0m\u001b[1;33m.\u001b[0m\u001b[1;33m]\u001b[0m \u001b[1;33m=\u001b[0m \u001b[0mtmp_flat\u001b[0m\u001b[1;33m\u001b[0m\u001b[0m\n\u001b[0m\u001b[0;32m    126\u001b[0m         \u001b[0marray_dict\u001b[0m\u001b[1;33m[\u001b[0m\u001b[0msub_dir\u001b[0m\u001b[1;33m]\u001b[0m\u001b[1;33m[\u001b[0m\u001b[1;36m1\u001b[0m\u001b[1;33m]\u001b[0m \u001b[1;33m+=\u001b[0m \u001b[1;36m1\u001b[0m\u001b[1;33m\u001b[0m\u001b[0m\n\u001b[0;32m    127\u001b[0m \u001b[1;33m\u001b[0m\u001b[0m\n",
        "\u001b[1;31mIndexError\u001b[0m: index 0 is out of bounds for axis 0 with size 0"
       ]
      }
     ],
     "prompt_number": 14
    },
    {
     "cell_type": "code",
     "collapsed": false,
     "input": [],
     "language": "python",
     "metadata": {},
     "outputs": []
    }
   ],
   "metadata": {}
  }
 ]
}