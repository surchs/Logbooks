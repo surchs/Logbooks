{
 "metadata": {
  "name": "",
  "signature": "sha256:f048d56ce06196af88ba773521cfae18effe878c3537dab98f81b14508993d23"
 },
 "nbformat": 3,
 "nbformat_minor": 0,
 "worksheets": [
  {
   "cells": [
    {
     "cell_type": "heading",
     "level": 1,
     "metadata": {},
     "source": [
      "Goals of the day: find duplicates in abide and visualize phenotype profile of clusters"
     ]
    },
    {
     "cell_type": "markdown",
     "metadata": {},
     "source": [
      "As a first step, I will try to find duplicates in the data that I am currently loading. The question is whether or not these files are real duplicates or something went wrong with the file naming."
     ]
    },
    {
     "cell_type": "code",
     "collapsed": false,
     "input": [
      "# Imports\n",
      "import re\n",
      "import pandas as pd\n",
      "import brainbox as bb\n",
      "from operator import itemgetter as ig\n",
      "from collections import Counter"
     ],
     "language": "python",
     "metadata": {},
     "outputs": [],
     "prompt_number": 49
    },
    {
     "cell_type": "code",
     "collapsed": false,
     "input": [
      "# Grab image files\n",
      "in_path = '/data1/abide/Out/Remote/some_failed/out'\n",
      "metric = 'stability_maps'\n",
      "file_dict = bb.fileOps.grab_files(in_path, '.nii.gz', sub=metric)\n",
      "# Grab pheno data\n",
      "pheno_path = '/home/surchs/Project/abide/pheno/pheno_full.csv'\n",
      "pheno = pd.read_csv(pheno_path)"
     ],
     "language": "python",
     "metadata": {},
     "outputs": [
      {
       "output_type": "stream",
       "stream": "stdout",
       "text": [
        "I will be pulling files from /data1/abide/Out/Remote/some_failed/out/stability_maps\n"
       ]
      }
     ],
     "prompt_number": 5
    },
    {
     "cell_type": "code",
     "collapsed": false,
     "input": [
      "# Get the real sub ids from the file names\n",
      "names = file_dict['sub_name']\n",
      "sub_ids = np.array([int64(re.search(r'(?<=\\d{2})\\d{5}', sub_id).group()) for sub_id in names])"
     ],
     "language": "python",
     "metadata": {},
     "outputs": [],
     "prompt_number": 34
    },
    {
     "cell_type": "code",
     "collapsed": false,
     "input": [
      "dupl = [item for item, count in Counter(sub_ids).iteritems() if count > 1]\n",
      "out_list = []\n",
      "for idx, val in enumerate(dupl):\n",
      "    c = [names[x] for x in np.where(sub_ids == val)[0]]\n",
      "    out_list.append(c)\n",
      "out_list"
     ],
     "language": "python",
     "metadata": {},
     "outputs": [
      {
       "metadata": {},
       "output_type": "pyout",
       "prompt_number": 77,
       "text": [
        "[['OHSU_0050142_session_1_run1_stability_maps',\n",
        "  'OHSU_0050142_session_1_run3_stability_maps',\n",
        "  'OHSU_0050142_session_1_run2_stability_maps'],\n",
        " ['OHSU_0050146_session_1_run1_stability_maps',\n",
        "  'OHSU_0050146_session_1_run3_stability_maps',\n",
        "  'OHSU_0050146_session_1_run2_stability_maps'],\n",
        " ['OHSU_0050147_session_1_run2_stability_maps',\n",
        "  'OHSU_0050147_session_1_run3_stability_maps',\n",
        "  'OHSU_0050147_session_1_run1_stability_maps'],\n",
        " ['OHSU_0050148_session_1_run3_stability_maps',\n",
        "  'OHSU_0050148_session_1_run2_stability_maps',\n",
        "  'OHSU_0050148_session_1_run1_stability_maps'],\n",
        " ['OHSU_0050152_session_1_run2_stability_maps',\n",
        "  'OHSU_0050152_session_1_run1_stability_maps'],\n",
        " ['OHSU_0050153_session_1_run1_stability_maps',\n",
        "  'OHSU_0050153_session_1_run2_stability_maps'],\n",
        " ['OHSU_0050156_session_1_run1_stability_maps',\n",
        "  'OHSU_0050156_session_1_run2_stability_maps'],\n",
        " ['OHSU_0050159_session_1_run2_stability_maps',\n",
        "  'OHSU_0050159_session_1_run3_stability_maps'],\n",
        " ['OHSU_0050160_session_1_run3_stability_maps',\n",
        "  'OHSU_0050160_session_1_run2_stability_maps',\n",
        "  'OHSU_0050160_session_1_run1_stability_maps'],\n",
        " ['OHSU_0050161_session_1_run3_stability_maps',\n",
        "  'OHSU_0050161_session_1_run2_stability_maps',\n",
        "  'OHSU_0050161_session_1_run1_stability_maps'],\n",
        " ['OHSU_0050162_session_1_run2_stability_maps',\n",
        "  'OHSU_0050162_session_1_run1_stability_maps',\n",
        "  'OHSU_0050162_session_1_run3_stability_maps'],\n",
        " ['OHSU_0050167_session_1_run1_stability_maps',\n",
        "  'OHSU_0050167_session_1_run2_stability_maps',\n",
        "  'OHSU_0050167_session_1_run3_stability_maps'],\n",
        " ['OHSU_0050168_session_1_run1_stability_maps',\n",
        "  'OHSU_0050168_session_1_run3_stability_maps',\n",
        "  'OHSU_0050168_session_1_run2_stability_maps'],\n",
        " ['OHSU_0050169_session_1_run1_stability_maps',\n",
        "  'OHSU_0050169_session_1_run3_stability_maps'],\n",
        " ['OHSU_0050171_session_1_run3_stability_maps',\n",
        "  'OHSU_0050171_session_1_run2_stability_maps',\n",
        "  'OHSU_0050171_session_1_run1_stability_maps']]"
       ]
      }
     ],
     "prompt_number": 77
    },
    {
     "cell_type": "markdown",
     "metadata": {},
     "source": [
      "Ok, so the duplicates are all several sessions of the same subject. Makes a lot of sense. How do I deal with this?\n",
      "\n",
      "Well, I will just pick the first scan in these cases."
     ]
    },
    {
     "cell_type": "code",
     "collapsed": false,
     "input": [],
     "language": "python",
     "metadata": {},
     "outputs": [],
     "prompt_number": 77
    },
    {
     "cell_type": "code",
     "collapsed": false,
     "input": [],
     "language": "python",
     "metadata": {},
     "outputs": [],
     "prompt_number": 77
    },
    {
     "cell_type": "code",
     "collapsed": false,
     "input": [],
     "language": "python",
     "metadata": {},
     "outputs": [],
     "prompt_number": 77
    },
    {
     "cell_type": "code",
     "collapsed": false,
     "input": [],
     "language": "python",
     "metadata": {},
     "outputs": []
    }
   ],
   "metadata": {}
  }
 ]
}