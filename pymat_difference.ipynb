{
 "metadata": {
  "name": "",
  "signature": "sha256:4c8337b50eefd457be13f9ce912bf9b120f099ec1c0f26661900bc72ab7ed550"
 },
 "nbformat": 3,
 "nbformat_minor": 0,
 "worksheets": [
  {
   "cells": [
    {
     "cell_type": "code",
     "collapsed": false,
     "input": [
      "%load_ext pymatbridge"
     ],
     "language": "python",
     "metadata": {},
     "outputs": [
      {
       "output_type": "stream",
       "stream": "stdout",
       "text": [
        "Starting MATLAB on ZMQ socket ipc:///tmp/pymatbridge\n",
        "Send 'exit' command to kill the server\n",
        ".MATLAB started and connected!"
       ]
      },
      {
       "output_type": "stream",
       "stream": "stdout",
       "text": [
        "\n"
       ]
      }
     ],
     "prompt_number": 1
    },
    {
     "cell_type": "code",
     "collapsed": false,
     "input": [
      "import numpy as np"
     ],
     "language": "python",
     "metadata": {},
     "outputs": [],
     "prompt_number": 2
    },
    {
     "cell_type": "code",
     "collapsed": false,
     "input": [
      "a = np.arange(64).reshape(4,4,4) + 1\n",
      "mask = np.zeros((4,4,4))\n",
      "mask[1:3,1:3,1:3] = 1\n",
      "mask = mask == 1"
     ],
     "language": "python",
     "metadata": {},
     "outputs": [],
     "prompt_number": 59
    },
    {
     "cell_type": "code",
     "collapsed": false,
     "input": [
      "mask"
     ],
     "language": "python",
     "metadata": {},
     "outputs": [
      {
       "metadata": {},
       "output_type": "pyout",
       "prompt_number": 60,
       "text": [
        "array([[[False, False, False, False],\n",
        "        [False, False, False, False],\n",
        "        [False, False, False, False],\n",
        "        [False, False, False, False]],\n",
        "\n",
        "       [[False, False, False, False],\n",
        "        [False,  True,  True, False],\n",
        "        [False,  True,  True, False],\n",
        "        [False, False, False, False]],\n",
        "\n",
        "       [[False, False, False, False],\n",
        "        [False,  True,  True, False],\n",
        "        [False,  True,  True, False],\n",
        "        [False, False, False, False]],\n",
        "\n",
        "       [[False, False, False, False],\n",
        "        [False, False, False, False],\n",
        "        [False, False, False, False],\n",
        "        [False, False, False, False]]], dtype=bool)"
       ]
      }
     ],
     "prompt_number": 60
    },
    {
     "cell_type": "code",
     "collapsed": false,
     "input": [
      "a"
     ],
     "language": "python",
     "metadata": {},
     "outputs": [
      {
       "metadata": {},
       "output_type": "pyout",
       "prompt_number": 61,
       "text": [
        "array([[[ 1,  2,  3,  4],\n",
        "        [ 5,  6,  7,  8],\n",
        "        [ 9, 10, 11, 12],\n",
        "        [13, 14, 15, 16]],\n",
        "\n",
        "       [[17, 18, 19, 20],\n",
        "        [21, 22, 23, 24],\n",
        "        [25, 26, 27, 28],\n",
        "        [29, 30, 31, 32]],\n",
        "\n",
        "       [[33, 34, 35, 36],\n",
        "        [37, 38, 39, 40],\n",
        "        [41, 42, 43, 44],\n",
        "        [45, 46, 47, 48]],\n",
        "\n",
        "       [[49, 50, 51, 52],\n",
        "        [53, 54, 55, 56],\n",
        "        [57, 58, 59, 60],\n",
        "        [61, 62, 63, 64]]])"
       ]
      }
     ],
     "prompt_number": 61
    },
    {
     "cell_type": "code",
     "collapsed": false,
     "input": [
      "%%matlab\n",
      "a = reshape(1:64, [4,4,4]);\n",
      "mask = zeros(4,4,4);\n",
      "mask(2:3,2:3,2:3) = 1;\n",
      "a\n",
      "mask = logical(mask)"
     ],
     "language": "python",
     "metadata": {},
     "outputs": [
      {
       "metadata": {},
       "output_type": "display_data",
       "text": [
        "\n",
        "a(:,:,1) =\n",
        "\n",
        "     1     5     9    13\n",
        "     2     6    10    14\n",
        "     3     7    11    15\n",
        "     4     8    12    16\n",
        "\n",
        "\n",
        "a(:,:,2) =\n",
        "\n",
        "    17    21    25    29\n",
        "    18    22    26    30\n",
        "    19    23    27    31\n",
        "    20    24    28    32\n",
        "\n",
        "\n",
        "a(:,:,3) =\n",
        "\n",
        "    33    37    41    45\n",
        "    34    38    42    46\n",
        "    35    39    43    47\n",
        "    36    40    44    48\n",
        "\n",
        "\n",
        "a(:,:,4) =\n",
        "\n",
        "    49    53    57    61\n",
        "    50    54    58    62\n",
        "    51    55    59    63\n",
        "    52    56    60    64\n",
        "\n",
        "\n",
        "mask(:,:,1) =\n",
        "\n",
        "     0     0     0     0\n",
        "     0     0     0     0\n",
        "     0     0     0     0\n",
        "     0     0     0     0\n",
        "\n",
        "\n",
        "mask(:,:,2) =\n",
        "\n",
        "     0     0     0     0\n",
        "     0     1     1     0\n",
        "     0     1     1     0\n",
        "     0     0     0     0\n",
        "\n",
        "\n",
        "mask(:,:,3) =\n",
        "\n",
        "     0     0     0     0\n",
        "     0     1     1     0\n",
        "     0     1     1     0\n",
        "     0     0     0     0\n",
        "\n",
        "\n",
        "mask(:,:,4) =\n",
        "\n",
        "     0     0     0     0\n",
        "     0     0     0     0\n",
        "     0     0     0     0\n",
        "     0     0     0     0\n",
        "\n"
       ]
      }
     ],
     "prompt_number": 62
    },
    {
     "cell_type": "code",
     "collapsed": false,
     "input": [
      "vec = a[mask]"
     ],
     "language": "python",
     "metadata": {},
     "outputs": [],
     "prompt_number": 63
    },
    {
     "cell_type": "code",
     "collapsed": false,
     "input": [
      "vec"
     ],
     "language": "python",
     "metadata": {},
     "outputs": [
      {
       "metadata": {},
       "output_type": "pyout",
       "prompt_number": 64,
       "text": [
        "array([22, 23, 26, 27, 38, 39, 42, 43])"
       ]
      }
     ],
     "prompt_number": 64
    },
    {
     "cell_type": "code",
     "collapsed": false,
     "input": [
      "%%matlab\n",
      "vec = a(mask)"
     ],
     "language": "python",
     "metadata": {},
     "outputs": [
      {
       "metadata": {},
       "output_type": "display_data",
       "text": [
        "\n",
        "vec =\n",
        "\n",
        "    22\n",
        "    23\n",
        "    26\n",
        "    27\n",
        "    38\n",
        "    39\n",
        "    42\n",
        "    43\n",
        "\n"
       ]
      }
     ],
     "prompt_number": 65
    },
    {
     "cell_type": "markdown",
     "metadata": {},
     "source": [
      "Well, this is the same. So why the hell do I get different results when I do the same with nifti files?"
     ]
    },
    {
     "cell_type": "code",
     "collapsed": false,
     "input": [
      "import nibabel as nib"
     ],
     "language": "python",
     "metadata": {},
     "outputs": [],
     "prompt_number": 66
    },
    {
     "cell_type": "code",
     "collapsed": false,
     "input": [
      "test_file = '/data1/scores/retest/out/sc07/stability_maps/_fmri_sub39529_session2_rest_stability_maps.nii.gz'\n",
      "test_img = nib.load(test_file)\n",
      "t_data = test_img.get_data()\n",
      "t_net = t_data[...,0]\n",
      "in_mask = '/data1/cambridge/template/template_cambridge_basc_multiscale_sym_scale007.nii.gz'\n",
      "mask_img = nib.load(in_mask)\n",
      "mask = mask_img.get_data() > 0"
     ],
     "language": "python",
     "metadata": {},
     "outputs": [],
     "prompt_number": 81
    },
    {
     "cell_type": "code",
     "collapsed": false,
     "input": [
      "%%matlab\n",
      "test_file = '/data1/scores/retest/out/sc07/stability_maps/_fmri_sub39529_session2_rest_stability_maps.nii.gz';\n",
      "[t_hdr, t_data] = niak_read_vol(test_file);\n",
      "t_net = t_data(:,:,:,1);\n",
      "mask_template = '/data1/cambridge/template/template_cambridge_basc_multiscale_sym_scale007.nii.gz';\n",
      "[m_hdr, m_vol] = niak_read_vol(mask_template);\n",
      "mask = logical(m_vol);"
     ],
     "language": "python",
     "metadata": {},
     "outputs": [],
     "prompt_number": 79
    },
    {
     "cell_type": "code",
     "collapsed": false,
     "input": [
      "mask.shape"
     ],
     "language": "python",
     "metadata": {},
     "outputs": [
      {
       "metadata": {},
       "output_type": "pyout",
       "prompt_number": 70,
       "text": [
        "(53, 64, 52)"
       ]
      }
     ],
     "prompt_number": 70
    },
    {
     "cell_type": "code",
     "collapsed": false,
     "input": [
      "%%matlab\n",
      "size(mask)"
     ],
     "language": "python",
     "metadata": {},
     "outputs": [
      {
       "metadata": {},
       "output_type": "display_data",
       "text": [
        "\n",
        "ans =\n",
        "\n",
        "    53    64    52\n",
        "\n"
       ]
      }
     ],
     "prompt_number": 71
    },
    {
     "cell_type": "code",
     "collapsed": false,
     "input": [
      "mask[10,20:30,20]"
     ],
     "language": "python",
     "metadata": {},
     "outputs": [
      {
       "metadata": {},
       "output_type": "pyout",
       "prompt_number": 73,
       "text": [
        "array([ True,  True,  True,  True, False, False, False,  True,  True,  True], dtype=bool)"
       ]
      }
     ],
     "prompt_number": 73
    },
    {
     "cell_type": "code",
     "collapsed": false,
     "input": [
      "%%matlab\n",
      "mask(11,21:30,21)"
     ],
     "language": "python",
     "metadata": {},
     "outputs": [
      {
       "metadata": {},
       "output_type": "display_data",
       "text": [
        "\n",
        "ans =\n",
        "\n",
        "     1     1     1     1     0     0     0     1     1     1\n",
        "\n"
       ]
      }
     ],
     "prompt_number": 74
    },
    {
     "cell_type": "markdown",
     "metadata": {},
     "source": [
      "Still the same story. What is up with the test data?"
     ]
    },
    {
     "cell_type": "code",
     "collapsed": false,
     "input": [
      "t_net.shape"
     ],
     "language": "python",
     "metadata": {},
     "outputs": [
      {
       "metadata": {},
       "output_type": "pyout",
       "prompt_number": 82,
       "text": [
        "(53, 64, 52)"
       ]
      }
     ],
     "prompt_number": 82
    },
    {
     "cell_type": "code",
     "collapsed": false,
     "input": [
      "%%matlab\n",
      "size(t_net)"
     ],
     "language": "python",
     "metadata": {},
     "outputs": [
      {
       "metadata": {},
       "output_type": "display_data",
       "text": [
        "\n",
        "ans =\n",
        "\n",
        "    53    64    52\n",
        "\n"
       ]
      }
     ],
     "prompt_number": 83
    },
    {
     "cell_type": "code",
     "collapsed": false,
     "input": [
      "t_net[10,20:30,30]"
     ],
     "language": "python",
     "metadata": {},
     "outputs": [
      {
       "metadata": {},
       "output_type": "pyout",
       "prompt_number": 85,
       "text": [
        "array([ 0.11,  0.1 ,  0.  ,  0.  ,  0.  ,  0.  ,  0.03,  0.  ,  0.  ,  0.  ], dtype=float32)"
       ]
      }
     ],
     "prompt_number": 85
    },
    {
     "cell_type": "code",
     "collapsed": false,
     "input": [
      "%%matlab\n",
      "t_net(11,21:30,31)"
     ],
     "language": "python",
     "metadata": {},
     "outputs": [
      {
       "metadata": {},
       "output_type": "display_data",
       "text": [
        "\n",
        "ans =\n",
        "\n",
        "  Columns 1 through 7\n",
        "\n",
        "    0.1100    0.1000         0         0         0         0    0.0300\n",
        "\n",
        "  Columns 8 through 10\n",
        "\n",
        "         0         0         0\n",
        "\n"
       ]
      }
     ],
     "prompt_number": 86
    },
    {
     "cell_type": "markdown",
     "metadata": {},
     "source": [
      "Still the same story"
     ]
    },
    {
     "cell_type": "code",
     "collapsed": false,
     "input": [
      "net_mask = t_net[mask]\n",
      "net_mask[:5]"
     ],
     "language": "python",
     "metadata": {},
     "outputs": [
      {
       "metadata": {},
       "output_type": "pyout",
       "prompt_number": 92,
       "text": [
        "array([ 0.18000001,  0.14      ,  0.16      ,  0.12      ,  0.16      ], dtype=float32)"
       ]
      }
     ],
     "prompt_number": 92
    },
    {
     "cell_type": "code",
     "collapsed": false,
     "input": [
      "%%matlab\n",
      "net_mask = t_net(mask);\n",
      "net_mask(1:5)"
     ],
     "language": "python",
     "metadata": {},
     "outputs": [
      {
       "metadata": {},
       "output_type": "display_data",
       "text": [
        "\n",
        "ans =\n",
        "\n",
        "    0.0100\n",
        "    0.6000\n",
        "    0.1100\n",
        "    0.4100\n",
        "    0.0300\n",
        "\n"
       ]
      }
     ],
     "prompt_number": 91
    },
    {
     "cell_type": "markdown",
     "metadata": {},
     "source": [
      "And now it is different. Are they using the rows and columns differently?"
     ]
    },
    {
     "cell_type": "code",
     "collapsed": false,
     "input": [],
     "language": "python",
     "metadata": {},
     "outputs": []
    }
   ],
   "metadata": {}
  }
 ]
}