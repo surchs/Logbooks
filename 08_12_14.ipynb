{
 "metadata": {
  "name": "",
  "signature": "sha256:6b088884e49adc4839cc710c846aea1077090ac559fcd8a8e4d0c7b8a4efb009"
 },
 "nbformat": 3,
 "nbformat_minor": 0,
 "worksheets": [
  {
   "cells": [
    {
     "cell_type": "heading",
     "level": 1,
     "metadata": {},
     "source": [
      "08/12/2014 - Scores Project"
     ]
    },
    {
     "cell_type": "markdown",
     "metadata": {},
     "source": [
      "Currently, I have generated the subject level clustering across retest sessions based on stability matrices and took a look at it ([Link to the Repo](https://github.com/SIMEXP/Projects/blob/master/Surfstab/surfstab_xp_su_trt_2014_08_08a.m))."
     ]
    },
    {
     "cell_type": "code",
     "collapsed": false,
     "input": [],
     "language": "python",
     "metadata": {},
     "outputs": []
    }
   ],
   "metadata": {}
  }
 ]
}