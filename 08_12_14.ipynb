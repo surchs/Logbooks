{
 "metadata": {
  "name": "",
  "signature": "sha256:a62e1df6a0d352e4dc5f09bfb0f767f5f9655283652648548a728f3d683bfe67"
 },
 "nbformat": 3,
 "nbformat_minor": 0,
 "worksheets": [
  {
   "cells": [
    {
     "cell_type": "heading",
     "level": 1,
     "metadata": {},
     "source": [
      "08/12/2014 - Scores Project"
     ]
    },
    {
     "cell_type": "markdown",
     "metadata": {},
     "source": [
      "Currently, I have generated the subject level clustering across based on stability matrices and took a look at it ("
     ]
    },
    {
     "cell_type": "code",
     "collapsed": false,
     "input": [],
     "language": "python",
     "metadata": {},
     "outputs": []
    }
   ],
   "metadata": {}
  }
 ]
}