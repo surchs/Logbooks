{
 "cells": [
  {
   "cell_type": "code",
   "execution_count": 13,
   "metadata": {
    "collapsed": false
   },
   "outputs": [],
   "source": [
    "import os\n",
    "import re\n",
    "import sys\n",
    "import glob\n",
    "import time\n",
    "import numpy as np\n",
    "import nibabel as nib\n",
    "from scipy import io as si"
   ]
  },
  {
   "cell_type": "code",
   "execution_count": 2,
   "metadata": {
    "collapsed": false
   },
   "outputs": [],
   "source": [
    "mask_dir = '/data1/cambridge/template'\n",
    "data_dir = '/data1/abide/Full/abide_release_sym_gsc0_lp01'\n",
    "out_dir = '/data1/john'\n",
    "if not os.path.isdir(out_dir):\n",
    "    os.makedirs(out_dir)\n",
    "\n",
    "mask_temp = 'template_cambridge_basc_multiscale_sym_scale{:03}.nii.gz'\n",
    "data_temp = 'fmri_*_session_1_run1.nii.gz'\n",
    "out_temp = 'connectomes_abide.mat'\n",
    "\n",
    "scales = [7,12,20,36,64,122,197,325,444]"
   ]
  },
  {
   "cell_type": "code",
   "execution_count": 3,
   "metadata": {
    "collapsed": false
   },
   "outputs": [],
   "source": [
    "# Get all the files in the directory\n",
    "files = glob.glob(os.path.join(data_dir, '*', data_temp))\n",
    "subs = dict()\n",
    "for f in files:\n",
    "    fname = os.path.basename(f)\n",
    "    sub = re.search('(?<=fmri_)[0-9]+',fname).group()\n",
    "    if not sub in subs.keys():\n",
    "        subs[sub] = f\n",
    "    else:\n",
    "        message('There are 2 of {}, the second one was {}'.format(sub, f))\n",
    "        raise Exception(message)    "
   ]
  },
  {
   "cell_type": "code",
   "execution_count": 4,
   "metadata": {
    "collapsed": false
   },
   "outputs": [],
   "source": [
    "num_subs = len(subs.keys())\n",
    "scale_dict = dict()\n",
    "for scale in scales:\n",
    "    scale_name = 'scale_{}'.format(scale)\n",
    "    mask_name = mask_temp.format(scale)\n",
    "    mask_path = os.path.join(mask_dir, mask_name)\n",
    "    m_img = nib.load(mask_path)\n",
    "    mask = m_img.get_data()\n",
    "    scale_dict[scale_name] = (mask, np.unique(mask[mask!=0]))"
   ]
  },
  {
   "cell_type": "code",
   "execution_count": 5,
   "metadata": {
    "collapsed": false
   },
   "outputs": [
    {
     "name": "stdout",
     "output_type": "stream",
     "text": [
      " #901, 100.0% done, 0.00 more seconds to go"
     ]
    }
   ],
   "source": [
    "all_dict = dict()\n",
    "num_subs = len(subs.keys())\n",
    "avg_time = np.array([])\n",
    "for s_id, sub in enumerate(subs.keys()):\n",
    "    p_c = float(s_id + 1) / num_subs * 100\n",
    "    rem = num_subs - (s_id + 1)\n",
    "\n",
    "    start = time.time()\n",
    "    s_img = nib.load(subs[sub])\n",
    "    data = s_img.get_data()\n",
    "    t_points = data.shape[3]\n",
    "\n",
    "    for scale in scales:\n",
    "        scale_name = 'scale_{}'.format(scale)\n",
    "        mask = scale_dict[scale_name][0]\n",
    "        rois = scale_dict[scale_name][1]\n",
    "        num_rois = len(rois)\n",
    "\n",
    "        data_rois = np.zeros((num_rois, t_points))\n",
    "        for ind, roi in enumerate(rois):\n",
    "            data_rois[ind,:] = np.mean(data[mask==roi,:],axis=0)\n",
    "        mat = np.corrcoef(data_rois)\n",
    "\n",
    "        if not scale_name in all_dict.keys():\n",
    "            all_dict[scale_name] = np.zeros((num_rois, num_rois, num_subs))\n",
    "        all_dict[scale_name][..., s_id] = mat\n",
    "    stop = time.time()\n",
    "    took = stop - start\n",
    "    avg_time = np.append(avg_time, took)\n",
    "    avg = np.average(avg_time)\n",
    "    rem_t = rem * avg\n",
    "    sys.stdout.write('\\r #{} took {:.3f}, {:.1f}% done, {:.2f} more seconds to go'.format(s_id+1, took, p_c, rem_t))\n",
    "    sys.stdout.flush()"
   ]
  },
  {
   "cell_type": "code",
   "execution_count": 7,
   "metadata": {
    "collapsed": false
   },
   "outputs": [],
   "source": [
    "from scipy import io as si"
   ]
  },
  {
   "cell_type": "code",
   "execution_count": 12,
   "metadata": {
    "collapsed": false
   },
   "outputs": [],
   "source": [
    "si.savemat('john_file.mat',all_dict)"
   ]
  },
  {
   "cell_type": "code",
   "execution_count": 14,
   "metadata": {
    "collapsed": false
   },
   "outputs": [],
   "source": [
    "out_str = ''\n",
    "for sub in subs.keys():\n",
    "    out_str = '{},{}'.format(out_str, sub)"
   ]
  },
  {
   "cell_type": "code",
   "execution_count": 15,
   "metadata": {
    "collapsed": false
   },
   "outputs": [],
   "source": [
    "f = open('subjects.txt', 'wb')\n",
    "f.write(out_str)\n",
    "f.close()"
   ]
  },
  {
   "cell_type": "code",
   "execution_count": null,
   "metadata": {
    "collapsed": false
   },
   "outputs": [],
   "source": []
  }
 ],
 "metadata": {
  "kernelspec": {
   "display_name": "Python 2",
   "language": "python",
   "name": "python2"
  },
  "language_info": {
   "codemirror_mode": {
    "name": "ipython",
    "version": 2
   },
   "file_extension": ".py",
   "mimetype": "text/x-python",
   "name": "python",
   "nbconvert_exporter": "python",
   "pygments_lexer": "ipython2",
   "version": "2.7.6"
  }
 },
 "nbformat": 4,
 "nbformat_minor": 0
}
