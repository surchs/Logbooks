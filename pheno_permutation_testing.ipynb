{
 "metadata": {
  "name": "",
  "signature": "sha256:7c46d95add2e72eade9ce90d4c87fa34583083660928774d3e37577e2eebf1aa"
 },
 "nbformat": 3,
 "nbformat_minor": 0,
 "worksheets": [
  {
   "cells": [
    {
     "cell_type": "heading",
     "level": 1,
     "metadata": {},
     "source": [
      "Generate cluster by cluster matrix"
     ]
    },
    {
     "cell_type": "markdown",
     "metadata": {},
     "source": [
      "Load the pre-computed linkage and then compute a cluster by cluster matrix of pheno distance and p-values. For now, we have these metrics to choose from:\n",
      "\n",
      "* mean\n",
      "* median"
     ]
    },
    {
     "cell_type": "code",
     "collapsed": false,
     "input": [
      "# Imports\n",
      "import re\n",
      "import gzip\n",
      "import numpy as np\n",
      "import pandas as pd\n",
      "import cPickle as cp\n",
      "import brainbox as bb\n",
      "from matplotlib import pyplot as plt\n",
      "import scipy.cluster.hierarchy as clh"
     ],
     "language": "python",
     "metadata": {},
     "outputs": [],
     "prompt_number": 7
    },
    {
     "cell_type": "markdown",
     "metadata": {},
     "source": [
      "Load the precomputed linkage from disk"
     ]
    },
    {
     "cell_type": "code",
     "collapsed": false,
     "input": [
      "# Path to the precomputed linkage\n",
      "linkage_path = '/data1/abide/Test/linkage.gz'"
     ],
     "language": "python",
     "metadata": {},
     "outputs": [],
     "prompt_number": 18
    },
    {
     "cell_type": "code",
     "collapsed": false,
     "input": [
      "# Load the precomputed linkage\n",
      "f = gzip.open(linkage_path, 'rb')\n",
      "in_data = cp.load(f)"
     ],
     "language": "python",
     "metadata": {},
     "outputs": [],
     "prompt_number": 20
    },
    {
     "cell_type": "code",
     "collapsed": false,
     "input": [
      "results = in_data[1]\n",
      "data_subs = in_data[]"
     ],
     "language": "python",
     "metadata": {},
     "outputs": [],
     "prompt_number": 21
    },
    {
     "cell_type": "markdown",
     "metadata": {},
     "source": [
      "Visualize the structure of the data"
     ]
    },
    {
     "cell_type": "code",
     "collapsed": false,
     "input": [
      "f = plt.figure(figsize=(12,4))\n",
      "ax1 = f.add_subplot(121)\n",
      "D1 = clh.dendrogram(results[0][1], p=40, truncate_mode='lastp', ax=ax1, color_threshold=500)\n",
      "dump = ax1.set_xticks([])\n",
      "\n",
      "ax2 = f.add_subplot(122)\n",
      "D1 = clh.dendrogram(results[0][1], ax=ax2, color_threshold=500)\n",
      "dump = ax2.set_xticks([])"
     ],
     "language": "python",
     "metadata": {},
     "outputs": [
      {
       "metadata": {},
       "output_type": "display_data",
       "png": "[encoded data removed]",
       "text": [
        "<matplotlib.figure.Figure at 0x80e6d90>"
       ]
      }
     ],
     "prompt_number": 65
    },
    {
     "cell_type": "markdown",
     "metadata": {},
     "source": [
      "Decide on the scale that I want to cluster this network at"
     ]
    },
    {
     "cell_type": "code",
     "collapsed": false,
     "input": [
      "# Get the partition of the linkage\n",
      "scale = 3\n",
      "part = clh.fcluster(results[0][1], scale, criterion='maxclust')"
     ],
     "language": "python",
     "metadata": {},
     "outputs": [],
     "prompt_number": 68
    },
    {
     "cell_type": "markdown",
     "metadata": {},
     "source": [
      "Get the pheno data for the entire dataset and limit it to the subjects that are in this sample"
     ]
    },
    {
     "cell_type": "code",
     "collapsed": false,
     "input": [
      "# Grab the phenotype data\n",
      "pheno_path = '/home/surchs/Project/abide/pheno/pheno_full.csv'\n",
      "pheno = pd.read_csv(pheno_path)\n",
      "# Get the subject IDs of the pheno files I just read in\n",
      "pheno_subs = pheno['SUB_ID']\n",
      "# Find a mask of those pheno subs for which we have brain data\n",
      "pheno_mask = pheno_subs.isin(data_subs)\n",
      "# Get the correct pheno data\n",
      "pheno_data = pheno[pheno_mask]"
     ],
     "language": "python",
     "metadata": {},
     "outputs": [],
     "prompt_number": 67
    },
    {
     "cell_type": "code",
     "collapsed": false,
     "input": [
      "results[0][0].shape"
     ],
     "language": "python",
     "metadata": {},
     "outputs": [
      {
       "metadata": {},
       "output_type": "pyout",
       "prompt_number": 69,
       "text": [
        "(607, 607)"
       ]
      }
     ],
     "prompt_number": 69
    },
    {
     "cell_type": "code",
     "collapsed": false,
     "input": [
      "len(pheno_data)"
     ],
     "language": "python",
     "metadata": {},
     "outputs": [
      {
       "metadata": {},
       "output_type": "pyout",
       "prompt_number": 70,
       "text": [
        "582"
       ]
      }
     ],
     "prompt_number": 70
    },
    {
     "cell_type": "code",
     "collapsed": false,
     "input": [],
     "language": "python",
     "metadata": {},
     "outputs": [],
     "prompt_number": 16
    },
    {
     "cell_type": "code",
     "collapsed": false,
     "input": [],
     "language": "python",
     "metadata": {},
     "outputs": [],
     "prompt_number": 13
    },
    {
     "cell_type": "code",
     "collapsed": false,
     "input": [
      "def show_netw(results, network, scale):\n",
      "    distance, linkage = results[network - 1]\n",
      "    part = clh.fcluster(linkage, scale, criterion='maxclust')\n",
      "\n",
      "    # Define covariates of interest\n",
      "    cov_interest = ['DX_GROUP', 'AGE_AT_SCAN', 'SITE_ID', 'SEX', 'EYE_STATUS_AT_SCAN']\n",
      "\n",
      "    # Pull up the subjects for one cluster\n",
      "    f = plt.figure(figsize=(10,5*(scale + 1)))\n",
      "\n",
      "    for clust in np.arange(1,scale + 1):\n",
      "        clust_subs = data_subs[part == clust]\n",
      "        clust_pheno = pheno_data[part == clust]\n",
      "        ax_cl = f.add_subplot(scale, 2, clust)\n",
      "        ax_cl.set_xticks([])\n",
      "        ax_cl.set_title('Cluster {}'.format(clust))\n",
      "\n",
      "        lt, lb, rt, rb = bb.visuOps.add_four_grid(ax_cl, ticks=True, titles=('age', 'sex', 'dx', 'fiq'))\n",
      "        lt.hist(clust_pheno['AGE_AT_SCAN'].values)\n",
      "        lb.hist(clust_pheno['SEX'].values, bins=2)\n",
      "        rt.hist(clust_pheno['DX_GROUP'].values, bins=2)\n",
      "        rb.hist(clust_pheno['FIQ'].values)"
     ],
     "language": "python",
     "metadata": {},
     "outputs": [],
     "prompt_number": 24
    },
    {
     "cell_type": "code",
     "collapsed": false,
     "input": [],
     "language": "python",
     "metadata": {},
     "outputs": []
    }
   ],
   "metadata": {}
  }
 ]
}