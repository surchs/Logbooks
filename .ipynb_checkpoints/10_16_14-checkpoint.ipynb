{
 "metadata": {
  "name": "",
  "signature": "sha256:57978910505ced8a0b8774db398ad42182de883fd8c6d3baa01d912b05e1de92"
 },
 "nbformat": 3,
 "nbformat_minor": 0,
 "worksheets": []
}