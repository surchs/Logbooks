{
 "metadata": {
  "name": "",
  "signature": "sha256:79abe03b52a330473c18732347fad36b5b90caaf676680f389b17aa764dc6fbf"
 },
 "nbformat": 3,
 "nbformat_minor": 0,
 "worksheets": [
  {
   "cells": [
    {
     "cell_type": "heading",
     "level": 1,
     "metadata": {},
     "source": [
      "Predict them ages"
     ]
    },
    {
     "cell_type": "markdown",
     "metadata": {},
     "source": [
      "Warning, this will generate a lot of data. But not on your machine, so don't worry."
     ]
    },
    {
     "cell_type": "code",
     "collapsed": false,
     "input": [
      "# Get some paths\n",
      "import os\n",
      "import subprocess\n",
      "import numpy as np\n",
      "import pandas as pd\n",
      "import statsmodels.api as sm\n",
      "from pymatbridge import Matlab\n",
      "from matplotlib import pyplot as plt\n",
      "import scipy.cluster.hierarchy as clh\n",
      "from sklearn import linear_model, cross_validation"
     ],
     "language": "python",
     "metadata": {},
     "outputs": [],
     "prompt_number": 308
    },
    {
     "cell_type": "code",
     "collapsed": false,
     "input": [
      "# Set some paths\n",
      "wk_dir = '/data1/age'\n",
      "dl_dir = os.path.join(wk_dir, 'data')\n",
      "csv_path = os.path.join(dl_dir, 'aging_full_model.csv')\n",
      "data_url = 'http://downloads.figshare.com/article/public/1241650'"
     ],
     "language": "python",
     "metadata": {},
     "outputs": [],
     "prompt_number": 2
    },
    {
     "cell_type": "code",
     "collapsed": false,
     "input": [
      "# Set up the scene\n",
      "if not os.path.exists(wk_dir):\n",
      "    print(\"I'll create {}\".format(wk_dir))\n",
      "    os.makedirs(wk_dir)\n",
      "if not os.path.exists(dl_dir):\n",
      "    print(\"I'll create {}\".format(dl_dir))\n",
      "    os.makedirs(dl_dir)"
     ],
     "language": "python",
     "metadata": {},
     "outputs": [],
     "prompt_number": 3
    },
    {
     "cell_type": "code",
     "collapsed": false,
     "input": [
      "# Get the data\n",
      "get_proc = subprocess.Popen(['wget', '-nc', data_url,  '-P', dl_dir], \n",
      "                            stderr=subprocess.STDOUT)\n",
      "get_proc.wait()\n",
      "get_status = get_proc.poll()\n",
      "if not status == 0:\n",
      "    print(\"Trying to run {} didn't work\".format(sys_call))\n",
      "else:\n",
      "    zip_proc = subprocess.Popen(['unzip',\n",
      "                             '{}/1241650'.format(dl_dir),\n",
      "                             '-d', dl_dir], stderr=subprocess.STDOUT)\n",
      "    zip_proc.wait()\n",
      "    ztatus = zip_proc.poll()\n",
      "    if not ztatus == 0:\n",
      "        print(\"Trying to run {} didn't work\".format(zip_call))"
     ],
     "language": "python",
     "metadata": {},
     "outputs": [],
     "prompt_number": 181
    },
    {
     "cell_type": "code",
     "collapsed": false,
     "input": [
      "pheno = pd.read_csv(os.path.join(dl_dir, 'aging_full_model.csv'))\n",
      "age = pheno['age'].values\n",
      "subs = pheno[' '].values\n",
      "# Strip the annoying trailing whitespace\n",
      "subs = [x.strip(' ') for x in subs]"
     ],
     "language": "python",
     "metadata": {},
     "outputs": [],
     "prompt_number": 85
    },
    {
     "cell_type": "code",
     "collapsed": false,
     "input": [
      "# Bring out the Matlab Master to deal with all those .mat files\n",
      "mlab = Matlab()\n",
      "mlab.start()"
     ],
     "language": "python",
     "metadata": {},
     "outputs": [
      {
       "output_type": "stream",
       "stream": "stdout",
       "text": [
        "Starting MATLAB on ZMQ socket ipc:///tmp/pymatbridge\n",
        "Send 'exit' command to kill the server\n",
        ".."
       ]
      },
      {
       "output_type": "stream",
       "stream": "stdout",
       "text": [
        ".MATLAB started and connected!"
       ]
      },
      {
       "output_type": "stream",
       "stream": "stdout",
       "text": [
        "\n"
       ]
      },
      {
       "metadata": {},
       "output_type": "pyout",
       "prompt_number": 5,
       "text": [
        "True"
       ]
      }
     ],
     "prompt_number": 5
    },
    {
     "cell_type": "code",
     "collapsed": false,
     "input": [
      "# Yes, yes, this is all notoriously slow because we have to weak up the matlab giant for each command\n",
      "for sub in subs:\n",
      "    read_this = os.path.join(dl_dir, 'correlation_{}_roi.mat'.format(sub))\n",
      "    comm = \"tmp = load('{}');\".format(read_this)\n",
      "    out = mlab.run_code(comm)\n",
      "    out = mlab.run_code('R = tmp.mat_r;')\n",
      "    # Save the stuff out as csv\n",
      "    out = mlab.run_code(\"csvwrite('{}/out_{}.csv', R);\".format(dl_dir, sub))\n",
      "print('Done writing')"
     ],
     "language": "python",
     "metadata": {},
     "outputs": [
      {
       "output_type": "stream",
       "stream": "stdout",
       "text": [
        "done with mni_622\n",
        "done with mni_624"
       ]
      },
      {
       "output_type": "stream",
       "stream": "stdout",
       "text": [
        "\n",
        "done with mni_667"
       ]
      },
      {
       "output_type": "stream",
       "stream": "stdout",
       "text": [
        "\n",
        "done with mni_644"
       ]
      },
      {
       "output_type": "stream",
       "stream": "stdout",
       "text": [
        "\n",
        "done with mni_649"
       ]
      },
      {
       "output_type": "stream",
       "stream": "stdout",
       "text": [
        "\n",
        "done with mni_610"
       ]
      },
      {
       "output_type": "stream",
       "stream": "stdout",
       "text": [
        "\n",
        "done with mni_623"
       ]
      },
      {
       "output_type": "stream",
       "stream": "stdout",
       "text": [
        "\n",
        "done with mni_603"
       ]
      },
      {
       "output_type": "stream",
       "stream": "stdout",
       "text": [
        "\n",
        "done with mni_646"
       ]
      },
      {
       "output_type": "stream",
       "stream": "stdout",
       "text": [
        "\n",
        "done with mni_633"
       ]
      },
      {
       "output_type": "stream",
       "stream": "stdout",
       "text": [
        "\n",
        "done with mni_638"
       ]
      },
      {
       "output_type": "stream",
       "stream": "stdout",
       "text": [
        "\n",
        "done with mni_611"
       ]
      },
      {
       "output_type": "stream",
       "stream": "stdout",
       "text": [
        "\n",
        "done with mni_654"
       ]
      },
      {
       "output_type": "stream",
       "stream": "stdout",
       "text": [
        "\n",
        "done with mni_592"
       ]
      },
      {
       "output_type": "stream",
       "stream": "stdout",
       "text": [
        "\n",
        "done with mni_637"
       ]
      },
      {
       "output_type": "stream",
       "stream": "stdout",
       "text": [
        "\n",
        "done with mni_635"
       ]
      },
      {
       "output_type": "stream",
       "stream": "stdout",
       "text": [
        "\n",
        "done with mni_647"
       ]
      },
      {
       "output_type": "stream",
       "stream": "stdout",
       "text": [
        "\n",
        "done with mni_626"
       ]
      },
      {
       "output_type": "stream",
       "stream": "stdout",
       "text": [
        "\n",
        "done with mni_651"
       ]
      },
      {
       "output_type": "stream",
       "stream": "stdout",
       "text": [
        "\n",
        "done with mni_631"
       ]
      },
      {
       "output_type": "stream",
       "stream": "stdout",
       "text": [
        "\n",
        "done with mni_629"
       ]
      },
      {
       "output_type": "stream",
       "stream": "stdout",
       "text": [
        "\n",
        "done with mni_613"
       ]
      },
      {
       "output_type": "stream",
       "stream": "stdout",
       "text": [
        "\n",
        "done with mni_627"
       ]
      },
      {
       "output_type": "stream",
       "stream": "stdout",
       "text": [
        "\n",
        "done with mni_668"
       ]
      },
      {
       "output_type": "stream",
       "stream": "stdout",
       "text": [
        "\n",
        "done with mni_616"
       ]
      },
      {
       "output_type": "stream",
       "stream": "stdout",
       "text": [
        "\n",
        "done with mni_620"
       ]
      },
      {
       "output_type": "stream",
       "stream": "stdout",
       "text": [
        "\n",
        "done with mni_621"
       ]
      },
      {
       "output_type": "stream",
       "stream": "stdout",
       "text": [
        "\n",
        "done with mni_612"
       ]
      },
      {
       "output_type": "stream",
       "stream": "stdout",
       "text": [
        "\n",
        "done with mni_640"
       ]
      },
      {
       "output_type": "stream",
       "stream": "stdout",
       "text": [
        "\n",
        "done with mni_657"
       ]
      },
      {
       "output_type": "stream",
       "stream": "stdout",
       "text": [
        "\n",
        "done with mni_645"
       ]
      },
      {
       "output_type": "stream",
       "stream": "stdout",
       "text": [
        "\n",
        "done with mni_655"
       ]
      },
      {
       "output_type": "stream",
       "stream": "stdout",
       "text": [
        "\n",
        "done with mni_666"
       ]
      },
      {
       "output_type": "stream",
       "stream": "stdout",
       "text": [
        "\n",
        "done with mni_658"
       ]
      },
      {
       "output_type": "stream",
       "stream": "stdout",
       "text": [
        "\n",
        "done with mni_641"
       ]
      },
      {
       "output_type": "stream",
       "stream": "stdout",
       "text": [
        "\n",
        "done with mni_615"
       ]
      },
      {
       "output_type": "stream",
       "stream": "stdout",
       "text": [
        "\n",
        "done with mni_642"
       ]
      },
      {
       "output_type": "stream",
       "stream": "stdout",
       "text": [
        "\n",
        "done with mni_650"
       ]
      },
      {
       "output_type": "stream",
       "stream": "stdout",
       "text": [
        "\n",
        "done with mni_604"
       ]
      },
      {
       "output_type": "stream",
       "stream": "stdout",
       "text": [
        "\n",
        "done with mni_634"
       ]
      },
      {
       "output_type": "stream",
       "stream": "stdout",
       "text": [
        "\n",
        "done with mni_663"
       ]
      },
      {
       "output_type": "stream",
       "stream": "stdout",
       "text": [
        "\n",
        "done with mni_628"
       ]
      },
      {
       "output_type": "stream",
       "stream": "stdout",
       "text": [
        "\n",
        "done with mni_619"
       ]
      },
      {
       "output_type": "stream",
       "stream": "stdout",
       "text": [
        "\n",
        "done with mni_605"
       ]
      },
      {
       "output_type": "stream",
       "stream": "stdout",
       "text": [
        "\n",
        "done with mni_625"
       ]
      },
      {
       "output_type": "stream",
       "stream": "stdout",
       "text": [
        "\n",
        "done with mni_614"
       ]
      },
      {
       "output_type": "stream",
       "stream": "stdout",
       "text": [
        "\n",
        "done with mni_639"
       ]
      },
      {
       "output_type": "stream",
       "stream": "stdout",
       "text": [
        "\n",
        "done with mni_660"
       ]
      },
      {
       "output_type": "stream",
       "stream": "stdout",
       "text": [
        "\n",
        "done with mni_652"
       ]
      },
      {
       "output_type": "stream",
       "stream": "stdout",
       "text": [
        "\n",
        "done with mni_618"
       ]
      },
      {
       "output_type": "stream",
       "stream": "stdout",
       "text": [
        "\n",
        "done with mni_653"
       ]
      },
      {
       "output_type": "stream",
       "stream": "stdout",
       "text": [
        "\n"
       ]
      }
     ],
     "prompt_number": 11
    },
    {
     "cell_type": "code",
     "collapsed": false,
     "input": [
      "# Now lets read this in again and deal with sensible data\n",
      "n_subs = len(subs)\n",
      "for idx, sub in enumerate(subs):\n",
      "    df = pd.read_csv('{}/out_{}.csv'.format(dl_dir, sub), header=None)\n",
      "    ts = np.array(df.values)\n",
      "    # Do mad things\n",
      "    ts = (ts - np.median(ts))/1.4785*np.median(np.absolute(ts-np.median(ts)))\n",
      "    if idx == 0:\n",
      "        conn = np.zeros((ts.shape[0], n_subs))\n",
      "    conn[:, idx] = ts[:,0]"
     ],
     "language": "python",
     "metadata": {},
     "outputs": [],
     "prompt_number": 51
    },
    {
     "cell_type": "code",
     "collapsed": false,
     "input": [
      "# Cross-validated clustering\n",
      "scale = 10\n",
      "cv = cross_validation.LeaveOneOut(n_subs)\n",
      "for train, test in cv:\n",
      "    train_conn = conn[:, train].T\n",
      "    test_conn = conn[:, test].T\n",
      "    train_age = age[train]\n",
      "    test_age = age[test]\n",
      "    \n",
      "    y = train_conn\n",
      "    x = sm.add_constant(train_age)\n",
      "    N = len(train)\n",
      "    K = 2\n",
      "    c = np.ones((K, 1));\n",
      "    # Fit OLS\n",
      "    linm = sm.OLS()\n",
      "    res = linm.fit(y, x)\n",
      "    beta = res.params\n",
      "    e = res.resid\n",
      "    std_e = [None, np.sqrt(np.sum(e**2,0 )/(N-K))]\n",
      "    d = np.sqrt(np.dot(np.dot(c.T,np.dot(x.T,x))**(-1),c))\n",
      "    ttest = np.dot(c.T,beta)/np.dot(std_e.T,d).T\n",
      "    # Turn the thing back into a matrix\n",
      "    N = np.round((1+np.sqrt(1+8*size(ttest)))/2.)\n",
      "    mat = np.zeros((N, N))\n",
      "    mat[np.tril(np.ones((N, N), dtype=bool), -1)] = ttest[0]\n",
      "    mat = mat.T\n",
      "    mat[np.tril(np.ones((N, N), dtype=bool), -1)] = ttest[0]\n",
      "    # Hierarchical Clustering\n",
      "    link = clh.linkage(mat, method='ward')\n",
      "    part = clh.fcluster(link, scale, criterion='maxclust')\n",
      "    # Make new connectomes\n",
      "    avg_conn = np.zeros((n_subs-1,scale*(scale-1)/2))\n",
      "    for idx, sub in enumerate(subs):\n",
      "        avg_conn[idx, :] = "
     ],
     "language": "python",
     "metadata": {},
     "outputs": [],
     "prompt_number": 120
    },
    {
     "cell_type": "code",
     "collapsed": false,
     "input": [
      "mat = np.zeros((N, N))\n",
      "mat[np.tril(np.ones((N, N), dtype=bool), -1)] = ttest[0]"
     ],
     "language": "python",
     "metadata": {},
     "outputs": [],
     "prompt_number": 292
    },
    {
     "cell_type": "code",
     "collapsed": false,
     "input": [
      "N = np.round((1+np.sqrt(1+8*size(ttest)))/2.)\n",
      "mat = np.zeros((N, N))\n",
      "mat[np.tril(np.ones((N, N), dtype=bool), -1)] = ttest[0]\n",
      "mat = mat.T\n",
      "mat[np.tril(np.ones((N, N), dtype=bool), -1)] = ttest[0]"
     ],
     "language": "python",
     "metadata": {},
     "outputs": [],
     "prompt_number": 303
    },
    {
     "cell_type": "code",
     "collapsed": false,
     "input": [
      "scale = 10\n",
      "link = clh.linkage(mat, method='ward')\n",
      "part = clh.fcluster(link, scale, criterion='maxclust')"
     ],
     "language": "python",
     "metadata": {},
     "outputs": [],
     "prompt_number": 310
    },
    {
     "cell_type": "code",
     "collapsed": false,
     "input": [
      "avg_conn = np.zeros((n_subs-1,scale*(scale-1)/2))"
     ],
     "language": "python",
     "metadata": {},
     "outputs": [],
     "prompt_number": 318
    },
    {
     "cell_type": "code",
     "collapsed": false,
     "input": [
      "avg_conn.shape"
     ],
     "language": "python",
     "metadata": {},
     "outputs": [
      {
       "metadata": {},
       "output_type": "pyout",
       "prompt_number": 319,
       "text": [
        "(50, 45)"
       ]
      }
     ],
     "prompt_number": 319
    },
    {
     "cell_type": "code",
     "collapsed": false,
     "input": [
      "K*(K-1)/2"
     ],
     "language": "python",
     "metadata": {},
     "outputs": [
      {
       "metadata": {},
       "output_type": "pyout",
       "prompt_number": 316,
       "text": [
        "1"
       ]
      }
     ],
     "prompt_number": 316
    },
    {
     "cell_type": "code",
     "collapsed": false,
     "input": [
      "K"
     ],
     "language": "python",
     "metadata": {},
     "outputs": [
      {
       "metadata": {},
       "output_type": "pyout",
       "prompt_number": 317,
       "text": [
        "2"
       ]
      }
     ],
     "prompt_number": 317
    },
    {
     "cell_type": "code",
     "collapsed": false,
     "input": [
      "d.shape"
     ],
     "language": "python",
     "metadata": {},
     "outputs": [
      {
       "metadata": {},
       "output_type": "pyout",
       "prompt_number": 239,
       "text": [
        "(1, 1)"
       ]
      }
     ],
     "prompt_number": 239
    },
    {
     "cell_type": "code",
     "collapsed": false,
     "input": [
      "results = model.fit()"
     ],
     "language": "python",
     "metadata": {},
     "outputs": [],
     "prompt_number": 195
    },
    {
     "cell_type": "code",
     "collapsed": false,
     "input": [
      "y.shape"
     ],
     "language": "python",
     "metadata": {},
     "outputs": [
      {
       "metadata": {},
       "output_type": "pyout",
       "prompt_number": 197,
       "text": [
        "(50, 289941)"
       ]
      }
     ],
     "prompt_number": 197
    },
    {
     "cell_type": "code",
     "collapsed": false,
     "input": [
      "beta"
     ],
     "language": "python",
     "metadata": {},
     "outputs": [
      {
       "metadata": {},
       "output_type": "pyout",
       "prompt_number": 171,
       "text": [
        "(2, 289941)"
       ]
      }
     ],
     "prompt_number": 171
    },
    {
     "cell_type": "code",
     "collapsed": false,
     "input": [
      "x.shape"
     ],
     "language": "python",
     "metadata": {},
     "outputs": [
      {
       "metadata": {},
       "output_type": "pyout",
       "prompt_number": 181,
       "text": [
        "(50, 2)"
       ]
      }
     ],
     "prompt_number": 181
    },
    {
     "cell_type": "code",
     "collapsed": false,
     "input": [
      "a = range(1,8)"
     ],
     "language": "python",
     "metadata": {},
     "outputs": [],
     "prompt_number": 182
    },
    {
     "cell_type": "code",
     "collapsed": false,
     "input": [
      "a"
     ],
     "language": "python",
     "metadata": {},
     "outputs": [
      {
       "metadata": {},
       "output_type": "pyout",
       "prompt_number": 183,
       "text": [
        "[1, 2, 3, 4, 5, 6, 7]"
       ]
      }
     ],
     "prompt_number": 183
    },
    {
     "cell_type": "code",
     "collapsed": false,
     "input": [
      "a = sm.add_constant(a)"
     ],
     "language": "python",
     "metadata": {},
     "outputs": [
      {
       "metadata": {},
       "output_type": "pyout",
       "prompt_number": 184,
       "text": [
        "array([[ 1.,  1.],\n",
        "       [ 1.,  2.],\n",
        "       [ 1.,  3.],\n",
        "       [ 1.,  4.],\n",
        "       [ 1.,  5.],\n",
        "       [ 1.,  6.],\n",
        "       [ 1.,  7.]])"
       ]
      }
     ],
     "prompt_number": 184
    },
    {
     "cell_type": "code",
     "collapsed": false,
     "input": [
      "x = sm.add_constant(train_age)"
     ],
     "language": "python",
     "metadata": {},
     "outputs": [],
     "prompt_number": 186
    },
    {
     "cell_type": "code",
     "collapsed": false,
     "input": [
      "x.shape"
     ],
     "language": "python",
     "metadata": {},
     "outputs": [
      {
       "metadata": {},
       "output_type": "pyout",
       "prompt_number": 187,
       "text": [
        "(50, 2)"
       ]
      }
     ],
     "prompt_number": 187
    },
    {
     "cell_type": "code",
     "collapsed": false,
     "input": [
      "y.shape"
     ],
     "language": "python",
     "metadata": {},
     "outputs": [
      {
       "metadata": {},
       "output_type": "pyout",
       "prompt_number": 190,
       "text": [
        "(50, 289941)"
       ]
      }
     ],
     "prompt_number": 190
    },
    {
     "cell_type": "code",
     "collapsed": false,
     "input": [],
     "language": "python",
     "metadata": {},
     "outputs": []
    }
   ],
   "metadata": {}
  }
 ]
}