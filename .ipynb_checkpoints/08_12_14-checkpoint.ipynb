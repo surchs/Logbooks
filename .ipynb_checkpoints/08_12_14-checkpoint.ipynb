{
 "metadata": {
  "name": "",
  "signature": "sha256:1dff922d97c8dfb398e18b4c5b4e90c4bdafb720d73561e9da19997cf9751771"
 },
 "nbformat": 3,
 "nbformat_minor": 0,
 "worksheets": [
  {
   "cells": [
    {
     "cell_type": "heading",
     "level": 1,
     "metadata": {},
     "source": [
      "08/12/2014 - Scores Project"
     ]
    },
    {
     "cell_type": "markdown",
     "metadata": {},
     "source": [
      "This notebook deals with the current state of the scores project"
     ]
    },
    {
     "cell_type": "code",
     "collapsed": false,
     "input": [],
     "language": "python",
     "metadata": {},
     "outputs": []
    }
   ],
   "metadata": {}
  }
 ]
}