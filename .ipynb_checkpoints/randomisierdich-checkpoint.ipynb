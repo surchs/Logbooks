{
 "metadata": {
  "name": "",
  "signature": "sha256:7b1c74a102fe0d3d16b0dbc2b0242f49b5f0ea44cf2493d5f13aa4a634aa8320"
 },
 "nbformat": 3,
 "nbformat_minor": 0,
 "worksheets": [
  {
   "cells": [
    {
     "cell_type": "code",
     "collapsed": false,
     "input": [
      "import numpy as np\n",
      "from matplotlib import pyplot as plt"
     ],
     "language": "python",
     "metadata": {},
     "outputs": [],
     "prompt_number": 3
    },
    {
     "cell_type": "code",
     "collapsed": false,
     "input": [],
     "language": "python",
     "metadata": {},
     "outputs": [],
     "prompt_number": 3
    },
    {
     "cell_type": "code",
     "collapsed": false,
     "input": [
      "15*15"
     ],
     "language": "python",
     "metadata": {},
     "outputs": [
      {
       "metadata": {},
       "output_type": "pyout",
       "prompt_number": 4,
       "text": [
        "225"
       ]
      }
     ],
     "prompt_number": 4
    },
    {
     "cell_type": "code",
     "collapsed": false,
     "input": [
      "# Sample 225 Zahlen von 1 bis 9 aus einer uniform distribution (gleiche Chance fuer alle)\n",
      "vec = np.random.randint(1,10,225)"
     ],
     "language": "python",
     "metadata": {},
     "outputs": [],
     "prompt_number": 12
    },
    {
     "cell_type": "code",
     "collapsed": false,
     "input": [
      "# Schauen ob es wirklich uniform ist - mehr oder weniger\n",
      "plt.hist(vec, bins=9)"
     ],
     "language": "python",
     "metadata": {},
     "outputs": [
      {
       "metadata": {},
       "output_type": "pyout",
       "prompt_number": 13,
       "text": [
        "(array([ 24.,  28.,  19.,  32.,  14.,  25.,  34.,  26.,  23.]),\n",
        " array([ 1.        ,  1.88888889,  2.77777778,  3.66666667,  4.55555556,\n",
        "         5.44444444,  6.33333333,  7.22222222,  8.11111111,  9.        ]),\n",
        " <a list of 9 Patch objects>)"
       ]
      },
      {
       "metadata": {},
       "output_type": "display_data",
       "png": "[encoded data removed]",
       "text": [
        "<matplotlib.figure.Figure at 0x3127ed0>"
       ]
      }
     ],
     "prompt_number": 13
    },
    {
     "cell_type": "code",
     "collapsed": false,
     "input": [
      "# Vector in 15 mal 15 Matrix zusammenbasteln\n",
      "mat = np.reshape(vec, (15, 15))"
     ],
     "language": "python",
     "metadata": {},
     "outputs": [],
     "prompt_number": 14
    },
    {
     "cell_type": "code",
     "collapsed": false,
     "input": [
      "# Matrix angucken\n",
      "plt.matshow(mat)"
     ],
     "language": "python",
     "metadata": {},
     "outputs": [
      {
       "metadata": {},
       "output_type": "pyout",
       "prompt_number": 15,
       "text": [
        "<matplotlib.image.AxesImage at 0x36fff50>"
       ]
      },
      {
       "metadata": {},
       "output_type": "display_data",
       "png": "[encoded data removed]",
       "text": [
        "<matplotlib.figure.Figure at 0x310ce10>"
       ]
      }
     ],
     "prompt_number": 15
    },
    {
     "cell_type": "heading",
     "level": 1,
     "metadata": {},
     "source": [
      "Kann man auch exakt machen"
     ]
    },
    {
     "cell_type": "code",
     "collapsed": false,
     "input": [
      "225./9"
     ],
     "language": "python",
     "metadata": {},
     "outputs": [
      {
       "metadata": {},
       "output_type": "pyout",
       "prompt_number": 26,
       "text": [
        "25.0"
       ]
      }
     ],
     "prompt_number": 26
    },
    {
     "cell_type": "code",
     "collapsed": false,
     "input": [
      "# Ah, gut, das geht genau auf. Dann machen wir das\n",
      "exvec = np.tile(np.arange(1,10),25)\n",
      "np.random.shuffle(exvec)"
     ],
     "language": "python",
     "metadata": {},
     "outputs": [],
     "prompt_number": 27
    },
    {
     "cell_type": "code",
     "collapsed": false,
     "input": [
      "# Jetzt ist es uniform\n",
      "plt.hist(exvec, bins=9)"
     ],
     "language": "python",
     "metadata": {},
     "outputs": [
      {
       "metadata": {},
       "output_type": "pyout",
       "prompt_number": 28,
       "text": [
        "(array([ 25.,  25.,  25.,  25.,  25.,  25.,  25.,  25.,  25.]),\n",
        " array([ 1.        ,  1.88888889,  2.77777778,  3.66666667,  4.55555556,\n",
        "         5.44444444,  6.33333333,  7.22222222,  8.11111111,  9.        ]),\n",
        " <a list of 9 Patch objects>)"
       ]
      },
      {
       "metadata": {},
       "output_type": "display_data",
       "png": "[encoded data removed]",
       "text": [
        "<matplotlib.figure.Figure at 0x3144190>"
       ]
      }
     ],
     "prompt_number": 28
    },
    {
     "cell_type": "code",
     "collapsed": false,
     "input": [
      "exmat = np.reshape(exvec, (15, 15))"
     ],
     "language": "python",
     "metadata": {},
     "outputs": [],
     "prompt_number": 29
    },
    {
     "cell_type": "code",
     "collapsed": false,
     "input": [
      "# Und angucken\n",
      "plt.matshow(exmat)"
     ],
     "language": "python",
     "metadata": {},
     "outputs": [
      {
       "metadata": {},
       "output_type": "pyout",
       "prompt_number": 30,
       "text": [
        "<matplotlib.image.AxesImage at 0x4228910>"
       ]
      },
      {
       "metadata": {},
       "output_type": "display_data",
       "png": "[encoded data removed]",
       "text": [
        "<matplotlib.figure.Figure at 0x3139310>"
       ]
      }
     ],
     "prompt_number": 30
    },
    {
     "cell_type": "heading",
     "level": 1,
     "metadata": {},
     "source": [
      "Und in Zahlen"
     ]
    },
    {
     "cell_type": "code",
     "collapsed": false,
     "input": [
      "exmat"
     ],
     "language": "python",
     "metadata": {},
     "outputs": [
      {
       "metadata": {},
       "output_type": "pyout",
       "prompt_number": 32,
       "text": [
        "array([[4, 9, 3, 9, 6, 7, 1, 4, 2, 7, 1, 7, 6, 6, 1],\n",
        "       [5, 3, 8, 7, 2, 2, 6, 7, 8, 8, 3, 1, 7, 5, 9],\n",
        "       [2, 1, 1, 3, 2, 2, 4, 7, 2, 8, 4, 1, 4, 4, 1],\n",
        "       [4, 3, 9, 7, 4, 2, 3, 4, 2, 7, 7, 6, 7, 8, 5],\n",
        "       [6, 3, 6, 3, 2, 2, 6, 3, 4, 9, 8, 5, 6, 6, 9],\n",
        "       [7, 9, 2, 5, 2, 9, 2, 8, 8, 3, 8, 5, 9, 9, 9],\n",
        "       [9, 6, 1, 6, 8, 5, 6, 5, 6, 9, 5, 9, 1, 8, 8],\n",
        "       [9, 5, 5, 3, 3, 7, 6, 4, 7, 9, 1, 8, 1, 3, 4],\n",
        "       [2, 9, 1, 1, 4, 8, 1, 4, 1, 4, 5, 6, 6, 6, 2],\n",
        "       [1, 7, 5, 3, 4, 7, 5, 5, 4, 7, 5, 9, 1, 9, 8],\n",
        "       [8, 3, 1, 6, 3, 7, 7, 8, 3, 5, 8, 3, 4, 1, 3],\n",
        "       [8, 2, 6, 9, 3, 1, 8, 8, 3, 2, 5, 1, 7, 4, 8],\n",
        "       [5, 5, 5, 2, 4, 2, 9, 1, 9, 8, 1, 9, 4, 2, 3],\n",
        "       [7, 8, 3, 6, 2, 2, 8, 5, 7, 4, 6, 4, 7, 7, 4],\n",
        "       [9, 6, 2, 5, 3, 5, 1, 4, 5, 9, 3, 6, 2, 7, 6]])"
       ]
      }
     ],
     "prompt_number": 32
    },
    {
     "cell_type": "code",
     "collapsed": false,
     "input": [],
     "language": "python",
     "metadata": {},
     "outputs": []
    }
   ],
   "metadata": {}
  }
 ]
}