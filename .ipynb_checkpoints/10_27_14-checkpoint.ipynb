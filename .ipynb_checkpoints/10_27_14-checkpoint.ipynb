{
 "metadata": {
  "name": "",
  "signature": "sha256:29c56affb5511507812607c01201802c09966445ab5d980a35d892567a47cbc1"
 },
 "nbformat": 3,
 "nbformat_minor": 0,
 "worksheets": [
  {
   "cells": [
    {
     "cell_type": "heading",
     "level": 1,
     "metadata": {},
     "source": [
      "Monday, 27th October 2014"
     ]
    },
    {
     "cell_type": "markdown",
     "metadata": {},
     "source": [
      "These are the things I want to do today:\n",
      "* Deal with duplicates"
     ]
    },
    {
     "cell_type": "code",
     "collapsed": false,
     "input": [
      "# Imports\n",
      "import re\n",
      "import pandas as pd\n",
      "import brainbox as bb\n",
      "from collections import Counter\n",
      "from operator import itemgetter as ig"
     ],
     "language": "python",
     "metadata": {},
     "outputs": [],
     "prompt_number": 1
    },
    {
     "cell_type": "code",
     "collapsed": false,
     "input": [
      "# Grab image data\n",
      "in_path = '/data1/abide/Out/Remote/some_failed/out'\n",
      "metric = 'stability_maps'\n",
      "file_dict = bb.fileOps.grab_files(in_path, '.nii.gz', sub=metric)\n",
      "# Grab pheno data\n",
      "pheno_path = '/home/surchs/Project/abide/pheno/pheno_full.csv'\n",
      "pheno = pd.read_csv(pheno_path)"
     ],
     "language": "python",
     "metadata": {},
     "outputs": [
      {
       "output_type": "stream",
       "stream": "stdout",
       "text": [
        "I will be pulling files from /data1/abide/Out/Remote/some_failed/out/stability_maps\n"
       ]
      }
     ],
     "prompt_number": 4
    },
    {
     "cell_type": "code",
     "collapsed": false,
     "input": [
      "# Get the real sub ids from the file names\n",
      "names = file_dict['sub_name']\n",
      "# Get the subject's session and run and id\n",
      "s_ses = np.array([int64(re.search(r'(?<=session_)\\d{1}', sub_id).group()) for sub_id in names])\n",
      "s_idn = np.array([int64(re.search(r'(?<=\\d{2})\\d{5}', sub_id).group()) for sub_id in names])\n",
      "s_run = np.array([int64(re.search(r'(?<=_run)\\d{1}', sub_id).group()) for sub_id in names])"
     ],
     "language": "python",
     "metadata": {},
     "outputs": [],
     "prompt_number": 24
    },
    {
     "cell_type": "heading",
     "level": 2,
     "metadata": {},
     "source": [
      "For duplicates, find the ones with either the lowest session and run or the one with the desired run"
     ]
    },
    {
     "cell_type": "markdown",
     "metadata": {},
     "source": [
      "The problem here is to deal with [advanced indexing](http://docs.scipy.org/doc/numpy/reference/arrays.indexing.html) when going through different __layers of indexes__. Advanced indexing returns a copy of the object, not the object itself. Therefore something like `data[idx1][idx2][idx3] = 10` does not change anything despite not throwing an error. \n",
      "\n",
      "The trick here seems to be to __replace boolean indexing with integer indexing__ by using numpy.flatnonzero. This returns a short list of index integers that can be sub-indexed to return a copy of itself. Since we wouldn't change anything about that cluster but just use it to slice a second object, we don't care that it's just a copy. So here this would be:\n",
      "\n",
      "    val_list = [list, of, values, to, be, sliced]\n",
      "    bool_idx = some_bool_array\n",
      "    flat_idx = np.flatnonzero(bool_idx)\n",
      "    val_list[flat_idx[idx2][idx3]]\n",
      "    \n",
      "Now there may be one more problem here. If `flat_idx[idx2][idx3]` returns more than one value, we cannot use it to slice a list. Lists only take single integer arrays. So we __need to check for number of indices__ if we are dealing with __lists__. A __solution__ in this case would be to __iterate through the indices__:\n",
      "\n",
      "    vals = [names[x] for x in flat_idx[idx2][idx3]]\n",
      "\n",
      "Here, I implemented a routine that either lets the user select the run and session he wants to use or selects the lowest session and run number."
     ]
    },
    {
     "cell_type": "code",
     "collapsed": false,
     "input": [
      "# Count the number of occurences of one subject's id\n",
      "dupl = [item for item, count in Counter(s_idn).iteritems() if count > 1]\n",
      "run = 1\n",
      "for val in dupl:\n",
      "    case_idx = s_idn == val\n",
      "    flat_idx = np.flatnonzero(case_idx)\n",
      "    # Iterator needed because names is not an array but a list\n",
      "    cases = [names[x] for x in np.where(case_idx)[0]]\n",
      "    # No iterators needed for arrays\n",
      "    sessions = s_ses[case_idx]\n",
      "    runs = s_run[case_idx]\n",
      "    # Find the one with the lowest session and then run number\n",
      "    min_ses = np.min(sessions)\n",
      "    ses_idx = sessions == min_ses\n",
      "    min_run = np.min(runs[ses_idx])\n",
      "    # run_idx = runs[ses_idx] == min_run\n",
      "    run_idx = runs[ses_idx] == run\n",
      "    print(cases)\n",
      "    if not run_idx.any():\n",
      "        raise Exception('This subject does not have the sought run')\n",
      "    \n",
      "    case = names[flat_idx[ses_idx][run_idx]]\n",
      "    print('We take {}\\n'.format(case))\n",
      "    "
     ],
     "language": "python",
     "metadata": {},
     "outputs": [
      {
       "output_type": "stream",
       "stream": "stdout",
       "text": [
        "['OHSU_0050142_session_1_run1_stability_maps', 'OHSU_0050142_session_1_run3_stability_maps', 'OHSU_0050142_session_1_run2_stability_maps']\n",
        "We take OHSU_0050142_session_1_run1_stability_maps\n",
        "\n",
        "['OHSU_0050146_session_1_run1_stability_maps', 'OHSU_0050146_session_1_run3_stability_maps', 'OHSU_0050146_session_1_run2_stability_maps']\n",
        "We take OHSU_0050146_session_1_run1_stability_maps\n",
        "\n",
        "['OHSU_0050147_session_1_run2_stability_maps', 'OHSU_0050147_session_1_run3_stability_maps', 'OHSU_0050147_session_1_run1_stability_maps']\n",
        "We take OHSU_0050147_session_1_run1_stability_maps\n",
        "\n",
        "['OHSU_0050148_session_1_run3_stability_maps', 'OHSU_0050148_session_1_run2_stability_maps', 'OHSU_0050148_session_1_run1_stability_maps']\n",
        "We take OHSU_0050148_session_1_run1_stability_maps\n",
        "\n",
        "['OHSU_0050152_session_1_run2_stability_maps', 'OHSU_0050152_session_1_run1_stability_maps']\n",
        "We take OHSU_0050152_session_1_run1_stability_maps\n",
        "\n",
        "['OHSU_0050153_session_1_run1_stability_maps', 'OHSU_0050153_session_1_run2_stability_maps']\n",
        "We take OHSU_0050153_session_1_run1_stability_maps\n",
        "\n",
        "['OHSU_0050156_session_1_run1_stability_maps', 'OHSU_0050156_session_1_run2_stability_maps']\n",
        "We take OHSU_0050156_session_1_run1_stability_maps\n",
        "\n",
        "['OHSU_0050159_session_1_run2_stability_maps', 'OHSU_0050159_session_1_run3_stability_maps']\n"
       ]
      },
      {
       "ename": "Exception",
       "evalue": "This subject does not have the sought run",
       "output_type": "pyerr",
       "traceback": [
        "\u001b[1;31m---------------------------------------------------------------------------\u001b[0m\n\u001b[1;31mException\u001b[0m                                 Traceback (most recent call last)",
        "\u001b[1;32m<ipython-input-177-9d74a996bf45>\u001b[0m in \u001b[0;36m<module>\u001b[1;34m()\u001b[0m\n\u001b[0;32m     18\u001b[0m     \u001b[1;32mprint\u001b[0m\u001b[1;33m(\u001b[0m\u001b[0mcases\u001b[0m\u001b[1;33m)\u001b[0m\u001b[1;33m\u001b[0m\u001b[0m\n\u001b[0;32m     19\u001b[0m     \u001b[1;32mif\u001b[0m \u001b[1;32mnot\u001b[0m \u001b[0mrun_idx\u001b[0m\u001b[1;33m.\u001b[0m\u001b[0many\u001b[0m\u001b[1;33m(\u001b[0m\u001b[1;33m)\u001b[0m\u001b[1;33m:\u001b[0m\u001b[1;33m\u001b[0m\u001b[0m\n\u001b[1;32m---> 20\u001b[1;33m         \u001b[1;32mraise\u001b[0m \u001b[0mException\u001b[0m\u001b[1;33m(\u001b[0m\u001b[1;34m'This subject does not have the sought run'\u001b[0m\u001b[1;33m)\u001b[0m\u001b[1;33m\u001b[0m\u001b[0m\n\u001b[0m\u001b[0;32m     21\u001b[0m \u001b[1;33m\u001b[0m\u001b[0m\n\u001b[0;32m     22\u001b[0m     \u001b[0mcase\u001b[0m \u001b[1;33m=\u001b[0m \u001b[0mnames\u001b[0m\u001b[1;33m[\u001b[0m\u001b[0mflat_idx\u001b[0m\u001b[1;33m[\u001b[0m\u001b[0mses_idx\u001b[0m\u001b[1;33m]\u001b[0m\u001b[1;33m[\u001b[0m\u001b[0mrun_idx\u001b[0m\u001b[1;33m]\u001b[0m\u001b[1;33m]\u001b[0m\u001b[1;33m\u001b[0m\u001b[0m\n",
        "\u001b[1;31mException\u001b[0m: This subject does not have the sought run"
       ]
      }
     ],
     "prompt_number": 177
    },
    {
     "cell_type": "code",
     "collapsed": false,
     "input": [
      "\n"
     ],
     "language": "python",
     "metadata": {},
     "outputs": [],
     "prompt_number": 172
    },
    {
     "cell_type": "code",
     "collapsed": false,
     "input": [],
     "language": "python",
     "metadata": {},
     "outputs": [],
     "prompt_number": 177
    },
    {
     "cell_type": "code",
     "collapsed": false,
     "input": [],
     "language": "python",
     "metadata": {},
     "outputs": [],
     "prompt_number": 177
    },
    {
     "cell_type": "code",
     "collapsed": false,
     "input": [],
     "language": "python",
     "metadata": {},
     "outputs": [],
     "prompt_number": 177
    },
    {
     "cell_type": "code",
     "collapsed": false,
     "input": [],
     "language": "python",
     "metadata": {},
     "outputs": [],
     "prompt_number": 177
    },
    {
     "cell_type": "code",
     "collapsed": false,
     "input": [],
     "language": "python",
     "metadata": {},
     "outputs": [],
     "prompt_number": 177
    },
    {
     "cell_type": "code",
     "collapsed": false,
     "input": [],
     "language": "python",
     "metadata": {},
     "outputs": [],
     "prompt_number": 177
    },
    {
     "cell_type": "code",
     "collapsed": false,
     "input": [],
     "language": "python",
     "metadata": {},
     "outputs": [],
     "prompt_number": 177
    },
    {
     "cell_type": "code",
     "collapsed": false,
     "input": [],
     "language": "python",
     "metadata": {},
     "outputs": [],
     "prompt_number": 178
    },
    {
     "cell_type": "code",
     "collapsed": false,
     "input": [],
     "language": "python",
     "metadata": {},
     "outputs": [],
     "prompt_number": 87
    },
    {
     "cell_type": "code",
     "collapsed": false,
     "input": [],
     "language": "python",
     "metadata": {},
     "outputs": [],
     "prompt_number": 111
    },
    {
     "cell_type": "code",
     "collapsed": false,
     "input": [],
     "language": "python",
     "metadata": {},
     "outputs": [],
     "prompt_number": 133
    },
    {
     "cell_type": "code",
     "collapsed": false,
     "input": [],
     "language": "python",
     "metadata": {},
     "outputs": [],
     "prompt_number": 178
    },
    {
     "cell_type": "code",
     "collapsed": false,
     "input": [],
     "language": "python",
     "metadata": {},
     "outputs": [],
     "prompt_number": 178
    },
    {
     "cell_type": "code",
     "collapsed": false,
     "input": [],
     "language": "python",
     "metadata": {},
     "outputs": [],
     "prompt_number": 178
    },
    {
     "cell_type": "code",
     "collapsed": false,
     "input": [],
     "language": "python",
     "metadata": {},
     "outputs": [],
     "prompt_number": 178
    },
    {
     "cell_type": "code",
     "collapsed": false,
     "input": [],
     "language": "python",
     "metadata": {},
     "outputs": []
    }
   ],
   "metadata": {}
  }
 ]
}