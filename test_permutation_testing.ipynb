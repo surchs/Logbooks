{
 "metadata": {
  "name": "",
  "signature": "sha256:15f7d66c681465087fb69f14bad86d6666b1d563ab37d15c312b5698750fe1d3"
 },
 "nbformat": 3,
 "nbformat_minor": 0,
 "worksheets": [
  {
   "cells": [
    {
     "cell_type": "code",
     "collapsed": false,
     "input": [
      "import numpy as np\n",
      "from matplotlib import pyplot as plt"
     ],
     "language": "python",
     "metadata": {},
     "outputs": [],
     "prompt_number": 31
    },
    {
     "cell_type": "heading",
     "level": 1,
     "metadata": {},
     "source": [
      "Continuous data"
     ]
    },
    {
     "cell_type": "code",
     "collapsed": false,
     "input": [
      "a = np.random.random(40)\n",
      "n_a = len(a)\n",
      "b = np.random.random(50)\n",
      "n_b = len(b)\n",
      "dist = np.mean(a) - np.mean(b)\n",
      "com = np.concatenate((a[...,None], b[...,None]),axis=0)"
     ],
     "language": "python",
     "metadata": {},
     "outputs": [],
     "prompt_number": 77
    },
    {
     "cell_type": "code",
     "collapsed": false,
     "input": [
      "res = np.empty((10000,1))\n",
      "for i in range(len(res)):\n",
      "    tmp = com\n",
      "    np.random.shuffle(tmp)\n",
      "    tmp_a = tmp[:n_a]\n",
      "    tmp_b = tmp[n_a:]\n",
      "    tmp_dist = np.mean(tmp_a) - np.mean(tmp_b)\n",
      "    res[i, 0] = tmp_dist"
     ],
     "language": "python",
     "metadata": {},
     "outputs": [],
     "prompt_number": 78
    },
    {
     "cell_type": "code",
     "collapsed": false,
     "input": [
      "# Improved p by adding 1 to \n",
      "under = (np.sum(np.abs(res) < np.abs(dist)) + 1) / 10001.\n",
      "over = (np.sum(np.abs(res) > np.abs(dist)) + 1) / 10001.\n",
      "plt.hist(res)\n",
      "plt.plot((dist, dist), (0, 3000), 'r-')\n",
      "print(under)\n",
      "print(over)"
     ],
     "language": "python",
     "metadata": {},
     "outputs": [
      {
       "output_type": "stream",
       "stream": "stdout",
       "text": [
        "0.95300469953\n",
        "0.047095290471\n"
       ]
      },
      {
       "metadata": {},
       "output_type": "display_data",
       "png": "[encoded data removed]",
       "text": [
        "<matplotlib.figure.Figure at 0x39f55d0>"
       ]
      }
     ],
     "prompt_number": 80
    },
    {
     "cell_type": "heading",
     "level": 1,
     "metadata": {},
     "source": [
      "Dichotomous data"
     ]
    },
    {
     "cell_type": "code",
     "collapsed": false,
     "input": [
      "a = np.random.randint(1,3,40)\n",
      "n_a = len(a)\n",
      "b = np.random.randint(1,3,50)\n",
      "n_b = len(b)\n",
      "dist = np.mean(a) - np.mean(b)\n",
      "com = np.concatenate((a[...,None], b[...,None]),axis=0)"
     ],
     "language": "python",
     "metadata": {},
     "outputs": [],
     "prompt_number": 74
    },
    {
     "cell_type": "code",
     "collapsed": false,
     "input": [
      "a"
     ],
     "language": "python",
     "metadata": {},
     "outputs": [
      {
       "metadata": {},
       "output_type": "pyout",
       "prompt_number": 75,
       "text": [
        "array([1, 2, 1, 2, 2, 2, 1, 2, 2, 2, 1, 2, 2, 2, 1, 1, 2, 2, 1, 2, 1, 2, 2,\n",
        "       2, 2, 2, 2, 1, 2, 2, 1, 2, 2, 2, 2, 2, 1, 2, 1, 1])"
       ]
      }
     ],
     "prompt_number": 75
    },
    {
     "cell_type": "code",
     "collapsed": false,
     "input": [],
     "language": "python",
     "metadata": {},
     "outputs": []
    }
   ],
   "metadata": {}
  }
 ]
}